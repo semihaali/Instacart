{
 "cells": [
  {
   "cell_type": "markdown",
   "id": "72576031",
   "metadata": {},
   "source": [
    "# 01. Importing Libraries"
   ]
  },
  {
   "cell_type": "code",
   "execution_count": 2,
   "id": "8c764761",
   "metadata": {},
   "outputs": [],
   "source": [
    "# Import libraries\n",
    "import pandas as pd\n",
    "import numpy as np\n",
    "import os"
   ]
  },
  {
   "cell_type": "markdown",
   "id": "c66f8be4",
   "metadata": {},
   "source": [
    "# 02.  Python Data Types"
   ]
  },
  {
   "cell_type": "code",
   "execution_count": 18,
   "id": "2844ca1d",
   "metadata": {},
   "outputs": [],
   "source": [
    "# Code 3 different ways of reaching a result of 100 by adding or subtracting numeric variables."
   ]
  },
  {
   "cell_type": "code",
   "execution_count": 3,
   "id": "277eae6e",
   "metadata": {},
   "outputs": [],
   "source": [
    "x=10"
   ]
  },
  {
   "cell_type": "code",
   "execution_count": 6,
   "id": "e9508377",
   "metadata": {},
   "outputs": [],
   "source": [
    "y=90"
   ]
  },
  {
   "cell_type": "code",
   "execution_count": 7,
   "id": "f5ea2848",
   "metadata": {},
   "outputs": [
    {
     "data": {
      "text/plain": [
       "100"
      ]
     },
     "execution_count": 7,
     "metadata": {},
     "output_type": "execute_result"
    }
   ],
   "source": [
    "x+y"
   ]
  },
  {
   "cell_type": "code",
   "execution_count": 9,
   "id": "10df128a",
   "metadata": {},
   "outputs": [],
   "source": [
    "z=110"
   ]
  },
  {
   "cell_type": "code",
   "execution_count": 10,
   "id": "17c44454",
   "metadata": {},
   "outputs": [
    {
     "data": {
      "text/plain": [
       "100"
      ]
     },
     "execution_count": 10,
     "metadata": {},
     "output_type": "execute_result"
    }
   ],
   "source": [
    "z-x"
   ]
  },
  {
   "cell_type": "code",
   "execution_count": 11,
   "id": "1253178e",
   "metadata": {},
   "outputs": [],
   "source": [
    "x=x+50"
   ]
  },
  {
   "cell_type": "code",
   "execution_count": 12,
   "id": "d615a927",
   "metadata": {},
   "outputs": [
    {
     "data": {
      "text/plain": [
       "100"
      ]
     },
     "execution_count": 12,
     "metadata": {},
     "output_type": "execute_result"
    }
   ],
   "source": [
    "40+x"
   ]
  },
  {
   "cell_type": "code",
   "execution_count": 13,
   "id": "3ea0c1aa",
   "metadata": {},
   "outputs": [
    {
     "name": "stdout",
     "output_type": "stream",
     "text": [
      "60\n"
     ]
    }
   ],
   "source": [
    "print(x)"
   ]
  },
  {
   "cell_type": "code",
   "execution_count": 14,
   "id": "d59e3a8a",
   "metadata": {},
   "outputs": [],
   "source": [
    "# Code 2 floating-point variables and divide them by each other."
   ]
  },
  {
   "cell_type": "code",
   "execution_count": 17,
   "id": "b22a337c",
   "metadata": {},
   "outputs": [],
   "source": [
    "x=4.2489"
   ]
  },
  {
   "cell_type": "code",
   "execution_count": 15,
   "id": "5f1ea65e",
   "metadata": {},
   "outputs": [],
   "source": [
    "y=6.42"
   ]
  },
  {
   "cell_type": "code",
   "execution_count": 16,
   "id": "e6e1fa9f",
   "metadata": {},
   "outputs": [
    {
     "data": {
      "text/plain": [
       "0.661822429906542"
      ]
     },
     "execution_count": 16,
     "metadata": {},
     "output_type": "execute_result"
    }
   ],
   "source": [
    "x/y"
   ]
  },
  {
   "cell_type": "code",
   "execution_count": 19,
   "id": "579bebdc",
   "metadata": {},
   "outputs": [],
   "source": [
    "# Construct a short word made of separate strings.\n",
    "a='butter'"
   ]
  },
  {
   "cell_type": "code",
   "execution_count": 20,
   "id": "a1c58102",
   "metadata": {},
   "outputs": [],
   "source": [
    "b='fly'"
   ]
  },
  {
   "cell_type": "code",
   "execution_count": 21,
   "id": "302e70f2",
   "metadata": {},
   "outputs": [
    {
     "data": {
      "text/plain": [
       "'butterfly'"
      ]
     },
     "execution_count": 21,
     "metadata": {},
     "output_type": "execute_result"
    }
   ],
   "source": [
    "a+b"
   ]
  },
  {
   "cell_type": "code",
   "execution_count": 22,
   "id": "2850a64f",
   "metadata": {},
   "outputs": [
    {
     "data": {
      "text/plain": [
       "str"
      ]
     },
     "execution_count": 22,
     "metadata": {},
     "output_type": "execute_result"
    }
   ],
   "source": [
    "type(a+b)"
   ]
  },
  {
   "cell_type": "code",
   "execution_count": 23,
   "id": "20dd628c",
   "metadata": {},
   "outputs": [],
   "source": [
    "# Construct 2 short sentences made of separate strings."
   ]
  },
  {
   "cell_type": "code",
   "execution_count": 24,
   "id": "d3e42016",
   "metadata": {},
   "outputs": [],
   "source": [
    "t='Good ' "
   ]
  },
  {
   "cell_type": "code",
   "execution_count": 25,
   "id": "080e29b7",
   "metadata": {},
   "outputs": [],
   "source": [
    "u= 'Morning!'"
   ]
  },
  {
   "cell_type": "code",
   "execution_count": 26,
   "id": "2b344a84",
   "metadata": {},
   "outputs": [
    {
     "data": {
      "text/plain": [
       "'Good Morning!'"
      ]
     },
     "execution_count": 26,
     "metadata": {},
     "output_type": "execute_result"
    }
   ],
   "source": [
    "t+u"
   ]
  },
  {
   "cell_type": "code",
   "execution_count": 30,
   "id": "49779f07",
   "metadata": {},
   "outputs": [],
   "source": [
    "f='Hello, '"
   ]
  },
  {
   "cell_type": "code",
   "execution_count": 31,
   "id": "bc1cf447",
   "metadata": {},
   "outputs": [],
   "source": [
    "g= 'World!'"
   ]
  },
  {
   "cell_type": "code",
   "execution_count": 32,
   "id": "c174eb7b",
   "metadata": {},
   "outputs": [
    {
     "data": {
      "text/plain": [
       "'Hello, World!'"
      ]
     },
     "execution_count": 32,
     "metadata": {},
     "output_type": "execute_result"
    }
   ],
   "source": [
    "f+g"
   ]
  },
  {
   "cell_type": "code",
   "execution_count": 33,
   "id": "a44920b6",
   "metadata": {},
   "outputs": [],
   "source": [
    "# At the bottom of your file, include a command that makes a string appear 100 times."
   ]
  },
  {
   "cell_type": "code",
   "execution_count": 34,
   "id": "f45ef4cc",
   "metadata": {},
   "outputs": [],
   "source": [
    "s='ha'"
   ]
  },
  {
   "cell_type": "code",
   "execution_count": 35,
   "id": "e1788fb7",
   "metadata": {},
   "outputs": [
    {
     "data": {
      "text/plain": [
       "'hahahahahahahahahahahahahahahahahahahahahahahahahahahahahahahahahahahahahahahahahahahahahahahahahahahahahahahahahahahahahahahahahahahahahahahahahahahahahahahahahahahahahahahahahahahahahahahahahahahaha'"
      ]
     },
     "execution_count": 35,
     "metadata": {},
     "output_type": "execute_result"
    }
   ],
   "source": [
    "s*100"
   ]
  },
  {
   "cell_type": "code",
   "execution_count": null,
   "id": "bcb88bb4",
   "metadata": {},
   "outputs": [],
   "source": []
  }
 ],
 "metadata": {
  "kernelspec": {
   "display_name": "Python 3 (ipykernel)",
   "language": "python",
   "name": "python3"
  },
  "language_info": {
   "codemirror_mode": {
    "name": "ipython",
    "version": 3
   },
   "file_extension": ".py",
   "mimetype": "text/x-python",
   "name": "python",
   "nbconvert_exporter": "python",
   "pygments_lexer": "ipython3",
   "version": "3.11.5"
  }
 },
 "nbformat": 4,
 "nbformat_minor": 5
}
